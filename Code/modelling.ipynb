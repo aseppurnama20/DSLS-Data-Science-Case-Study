{
  "cells": [
    {
      "cell_type": "code",
      "execution_count": 1,
      "metadata": {
        "id": "DhJTziOLqn9l"
      },
      "outputs": [],
      "source": [
        "import pandas as pd\n",
        "import seaborn as sns\n",
        "import matplotlib.pyplot as plt\n",
        "import numpy as np\n",
        "import seaborn as sns\n",
        "import warnings\n",
        "import joblib\n",
        "warnings.filterwarnings(\"ignore\")"
      ]
    },
    {
      "cell_type": "code",
      "execution_count": 2,
      "metadata": {
        "colab": {
          "base_uri": "https://localhost:8080/"
        },
        "id": "U2-Rb3BJqvvJ",
        "outputId": "cb8193d6-34ce-497a-825f-654365623b26"
      },
      "outputs": [
        {
          "output_type": "stream",
          "name": "stdout",
          "text": [
            "Mounted at /content/gdrive\n"
          ]
        }
      ],
      "source": [
        "from google.colab import drive \n",
        "drive.mount('/content/gdrive')"
      ]
    },
    {
      "cell_type": "code",
      "execution_count": 3,
      "metadata": {
        "id": "xEfGv2Mzq0IH"
      },
      "outputs": [],
      "source": [
        "data = pd.read_csv('gdrive/My Drive/DS DSLS/data_fix.csv')"
      ]
    },
    {
      "cell_type": "code",
      "execution_count": 4,
      "metadata": {
        "colab": {
          "base_uri": "https://localhost:8080/",
          "height": 991
        },
        "id": "6HnZRstNsGU1",
        "outputId": "e50d097b-de4e-434d-db52-4d7878bfe4b4"
      },
      "outputs": [
        {
          "output_type": "execute_result",
          "data": {
            "text/plain": [
              "             date                     time                     street  \\\n",
              "0      2022-07-06  2022-07-06 03:00:00.000    N14 Jenderal Ahmad Yani   \n",
              "1      2022-07-06  2022-07-06 06:00:00.000      N14 Jenderal Sudirman   \n",
              "2      2022-07-06  2022-07-06 06:00:00.000      N14 Jenderal Sudirman   \n",
              "3      2022-07-06  2022-07-06 06:00:00.000        N14 Brigjen Darsono   \n",
              "4      2022-07-06  2022-07-06 06:00:00.000        N14 Brigjen Darsono   \n",
              "...           ...                      ...                        ...   \n",
              "17595  2022-09-06  2022-09-06 00:00:00.000    N14 Jenderal Ahmad Yani   \n",
              "17596  2022-09-06  2022-09-06 00:00:00.000    N14 Jenderal Ahmad Yani   \n",
              "17597  2022-09-06  2022-09-06 00:00:00.000        N14 Brigjen Darsono   \n",
              "17598  2022-09-06  2022-09-06 00:00:00.000    N14 Jenderal Ahmad Yani   \n",
              "17599  2022-09-06  2022-09-06 00:00:00.000  Dokter Cipto Mangunkusumo   \n",
              "\n",
              "                                                geometry  level  \\\n",
              "0      LINESTRING (108.566478 -6.742307, 108.567712 -...      1   \n",
              "1      MULTILINESTRING ((108.538466 -6.754245, 108.53...      2   \n",
              "2      MULTILINESTRING ((108.540309 -6.750729, 108.54...      1   \n",
              "3      MULTILINESTRING ((108.541192 -6.734419, 108.54...      3   \n",
              "4      LINESTRING (108.538898 -6.726917, 108.539027 -...      4   \n",
              "...                                                  ...    ...   \n",
              "17595  MULTILINESTRING ((108.552249 -6.74035, 108.553...      3   \n",
              "17596  MULTILINESTRING ((108.548133 -6.739574, 108.54...      2   \n",
              "17597  MULTILINESTRING ((108.540233 -6.73113, 108.540...      3   \n",
              "17598  LINESTRING (108.557466 -6.741308, 108.558148 -...      1   \n",
              "17599  MULTILINESTRING ((108.550653 -6.715883, 108.55...      4   \n",
              "\n",
              "       total_records_alerts_cnt  total_records_alerts_avg  \\\n",
              "0                          40.0                 42.250000   \n",
              "1                          33.0                 19.939394   \n",
              "2                          33.0                 19.939394   \n",
              "3                           2.0                 61.000000   \n",
              "4                           2.0                 61.000000   \n",
              "...                         ...                       ...   \n",
              "17595                      40.0                 42.250000   \n",
              "17596                      40.0                 42.250000   \n",
              "17597                       2.0                 61.000000   \n",
              "17598                      40.0                 42.250000   \n",
              "17599                      15.0                 21.200000   \n",
              "\n",
              "       total_records_alerts_std  total_records_alerts_p25  \\\n",
              "0                     21.764179                      59.0   \n",
              "1                     10.571008                      21.0   \n",
              "2                     10.571008                      21.0   \n",
              "3                     43.840620                      61.0   \n",
              "4                     43.840620                      61.0   \n",
              "...                         ...                       ...   \n",
              "17595                 21.764179                      59.0   \n",
              "17596                 21.764179                      59.0   \n",
              "17597                 43.840620                      61.0   \n",
              "17598                 21.764179                      59.0   \n",
              "17599                 19.079533                      17.0   \n",
              "\n",
              "       total_records_alerts_p50  ...  total_records_jams_std  \\\n",
              "0                          59.0  ...                7.902390   \n",
              "1                          21.0  ...               18.421277   \n",
              "2                          21.0  ...               18.421277   \n",
              "3                          61.0  ...                6.743449   \n",
              "4                          61.0  ...                6.743449   \n",
              "...                         ...  ...                     ...   \n",
              "17595                      59.0  ...                7.902390   \n",
              "17596                      59.0  ...                7.902390   \n",
              "17597                      61.0  ...                6.743449   \n",
              "17598                      59.0  ...                7.902390   \n",
              "17599                      17.0  ...               14.484696   \n",
              "\n",
              "       total_records_jams_p25  total_records_jams_p50  total_records_jams_p75  \\\n",
              "0                         7.0                     7.0                    12.0   \n",
              "1                         9.0                     9.0                    20.0   \n",
              "2                         9.0                     9.0                    20.0   \n",
              "3                         6.0                     6.0                    11.0   \n",
              "4                         6.0                     6.0                    11.0   \n",
              "...                       ...                     ...                     ...   \n",
              "17595                     7.0                     7.0                    12.0   \n",
              "17596                     7.0                     7.0                    12.0   \n",
              "17597                     6.0                     6.0                    11.0   \n",
              "17598                     7.0                     7.0                    12.0   \n",
              "17599                     9.0                     9.0                    19.0   \n",
              "\n",
              "       median_level_jams_cnt  median_level_jams_avg  median_level_jams_std  \\\n",
              "0                     1286.0               2.652411               0.819807   \n",
              "1                     1328.0               2.038404               0.873732   \n",
              "2                     1328.0               2.038404               0.873732   \n",
              "3                     1269.0               2.928290               0.658884   \n",
              "4                     1269.0               2.928290               0.658884   \n",
              "...                      ...                    ...                    ...   \n",
              "17595                 1286.0               2.652411               0.819807   \n",
              "17596                 1286.0               2.652411               0.819807   \n",
              "17597                 1269.0               2.928290               0.658884   \n",
              "17598                 1286.0               2.652411               0.819807   \n",
              "17599                 1989.0               2.494721               0.914118   \n",
              "\n",
              "       median_level_jams_p25  median_level_jams_p50  median_level_jams_p75  \n",
              "0                        3.0                    3.0                    3.0  \n",
              "1                        2.0                    2.0                    3.0  \n",
              "2                        2.0                    2.0                    3.0  \n",
              "3                        3.0                    3.0                    3.0  \n",
              "4                        3.0                    3.0                    3.0  \n",
              "...                      ...                    ...                    ...  \n",
              "17595                    3.0                    3.0                    3.0  \n",
              "17596                    3.0                    3.0                    3.0  \n",
              "17597                    3.0                    3.0                    3.0  \n",
              "17598                    3.0                    3.0                    3.0  \n",
              "17599                    2.0                    2.0                    3.0  \n",
              "\n",
              "[17600 rows x 83 columns]"
            ],
            "text/html": [
              "\n",
              "  <div id=\"df-01230b42-001e-442b-a53b-3452d6cbae9e\">\n",
              "    <div class=\"colab-df-container\">\n",
              "      <div>\n",
              "<style scoped>\n",
              "    .dataframe tbody tr th:only-of-type {\n",
              "        vertical-align: middle;\n",
              "    }\n",
              "\n",
              "    .dataframe tbody tr th {\n",
              "        vertical-align: top;\n",
              "    }\n",
              "\n",
              "    .dataframe thead th {\n",
              "        text-align: right;\n",
              "    }\n",
              "</style>\n",
              "<table border=\"1\" class=\"dataframe\">\n",
              "  <thead>\n",
              "    <tr style=\"text-align: right;\">\n",
              "      <th></th>\n",
              "      <th>date</th>\n",
              "      <th>time</th>\n",
              "      <th>street</th>\n",
              "      <th>geometry</th>\n",
              "      <th>level</th>\n",
              "      <th>total_records_alerts_cnt</th>\n",
              "      <th>total_records_alerts_avg</th>\n",
              "      <th>total_records_alerts_std</th>\n",
              "      <th>total_records_alerts_p25</th>\n",
              "      <th>total_records_alerts_p50</th>\n",
              "      <th>...</th>\n",
              "      <th>total_records_jams_std</th>\n",
              "      <th>total_records_jams_p25</th>\n",
              "      <th>total_records_jams_p50</th>\n",
              "      <th>total_records_jams_p75</th>\n",
              "      <th>median_level_jams_cnt</th>\n",
              "      <th>median_level_jams_avg</th>\n",
              "      <th>median_level_jams_std</th>\n",
              "      <th>median_level_jams_p25</th>\n",
              "      <th>median_level_jams_p50</th>\n",
              "      <th>median_level_jams_p75</th>\n",
              "    </tr>\n",
              "  </thead>\n",
              "  <tbody>\n",
              "    <tr>\n",
              "      <th>0</th>\n",
              "      <td>2022-07-06</td>\n",
              "      <td>2022-07-06 03:00:00.000</td>\n",
              "      <td>N14 Jenderal Ahmad Yani</td>\n",
              "      <td>LINESTRING (108.566478 -6.742307, 108.567712 -...</td>\n",
              "      <td>1</td>\n",
              "      <td>40.0</td>\n",
              "      <td>42.250000</td>\n",
              "      <td>21.764179</td>\n",
              "      <td>59.0</td>\n",
              "      <td>59.0</td>\n",
              "      <td>...</td>\n",
              "      <td>7.902390</td>\n",
              "      <td>7.0</td>\n",
              "      <td>7.0</td>\n",
              "      <td>12.0</td>\n",
              "      <td>1286.0</td>\n",
              "      <td>2.652411</td>\n",
              "      <td>0.819807</td>\n",
              "      <td>3.0</td>\n",
              "      <td>3.0</td>\n",
              "      <td>3.0</td>\n",
              "    </tr>\n",
              "    <tr>\n",
              "      <th>1</th>\n",
              "      <td>2022-07-06</td>\n",
              "      <td>2022-07-06 06:00:00.000</td>\n",
              "      <td>N14 Jenderal Sudirman</td>\n",
              "      <td>MULTILINESTRING ((108.538466 -6.754245, 108.53...</td>\n",
              "      <td>2</td>\n",
              "      <td>33.0</td>\n",
              "      <td>19.939394</td>\n",
              "      <td>10.571008</td>\n",
              "      <td>21.0</td>\n",
              "      <td>21.0</td>\n",
              "      <td>...</td>\n",
              "      <td>18.421277</td>\n",
              "      <td>9.0</td>\n",
              "      <td>9.0</td>\n",
              "      <td>20.0</td>\n",
              "      <td>1328.0</td>\n",
              "      <td>2.038404</td>\n",
              "      <td>0.873732</td>\n",
              "      <td>2.0</td>\n",
              "      <td>2.0</td>\n",
              "      <td>3.0</td>\n",
              "    </tr>\n",
              "    <tr>\n",
              "      <th>2</th>\n",
              "      <td>2022-07-06</td>\n",
              "      <td>2022-07-06 06:00:00.000</td>\n",
              "      <td>N14 Jenderal Sudirman</td>\n",
              "      <td>MULTILINESTRING ((108.540309 -6.750729, 108.54...</td>\n",
              "      <td>1</td>\n",
              "      <td>33.0</td>\n",
              "      <td>19.939394</td>\n",
              "      <td>10.571008</td>\n",
              "      <td>21.0</td>\n",
              "      <td>21.0</td>\n",
              "      <td>...</td>\n",
              "      <td>18.421277</td>\n",
              "      <td>9.0</td>\n",
              "      <td>9.0</td>\n",
              "      <td>20.0</td>\n",
              "      <td>1328.0</td>\n",
              "      <td>2.038404</td>\n",
              "      <td>0.873732</td>\n",
              "      <td>2.0</td>\n",
              "      <td>2.0</td>\n",
              "      <td>3.0</td>\n",
              "    </tr>\n",
              "    <tr>\n",
              "      <th>3</th>\n",
              "      <td>2022-07-06</td>\n",
              "      <td>2022-07-06 06:00:00.000</td>\n",
              "      <td>N14 Brigjen Darsono</td>\n",
              "      <td>MULTILINESTRING ((108.541192 -6.734419, 108.54...</td>\n",
              "      <td>3</td>\n",
              "      <td>2.0</td>\n",
              "      <td>61.000000</td>\n",
              "      <td>43.840620</td>\n",
              "      <td>61.0</td>\n",
              "      <td>61.0</td>\n",
              "      <td>...</td>\n",
              "      <td>6.743449</td>\n",
              "      <td>6.0</td>\n",
              "      <td>6.0</td>\n",
              "      <td>11.0</td>\n",
              "      <td>1269.0</td>\n",
              "      <td>2.928290</td>\n",
              "      <td>0.658884</td>\n",
              "      <td>3.0</td>\n",
              "      <td>3.0</td>\n",
              "      <td>3.0</td>\n",
              "    </tr>\n",
              "    <tr>\n",
              "      <th>4</th>\n",
              "      <td>2022-07-06</td>\n",
              "      <td>2022-07-06 06:00:00.000</td>\n",
              "      <td>N14 Brigjen Darsono</td>\n",
              "      <td>LINESTRING (108.538898 -6.726917, 108.539027 -...</td>\n",
              "      <td>4</td>\n",
              "      <td>2.0</td>\n",
              "      <td>61.000000</td>\n",
              "      <td>43.840620</td>\n",
              "      <td>61.0</td>\n",
              "      <td>61.0</td>\n",
              "      <td>...</td>\n",
              "      <td>6.743449</td>\n",
              "      <td>6.0</td>\n",
              "      <td>6.0</td>\n",
              "      <td>11.0</td>\n",
              "      <td>1269.0</td>\n",
              "      <td>2.928290</td>\n",
              "      <td>0.658884</td>\n",
              "      <td>3.0</td>\n",
              "      <td>3.0</td>\n",
              "      <td>3.0</td>\n",
              "    </tr>\n",
              "    <tr>\n",
              "      <th>...</th>\n",
              "      <td>...</td>\n",
              "      <td>...</td>\n",
              "      <td>...</td>\n",
              "      <td>...</td>\n",
              "      <td>...</td>\n",
              "      <td>...</td>\n",
              "      <td>...</td>\n",
              "      <td>...</td>\n",
              "      <td>...</td>\n",
              "      <td>...</td>\n",
              "      <td>...</td>\n",
              "      <td>...</td>\n",
              "      <td>...</td>\n",
              "      <td>...</td>\n",
              "      <td>...</td>\n",
              "      <td>...</td>\n",
              "      <td>...</td>\n",
              "      <td>...</td>\n",
              "      <td>...</td>\n",
              "      <td>...</td>\n",
              "      <td>...</td>\n",
              "    </tr>\n",
              "    <tr>\n",
              "      <th>17595</th>\n",
              "      <td>2022-09-06</td>\n",
              "      <td>2022-09-06 00:00:00.000</td>\n",
              "      <td>N14 Jenderal Ahmad Yani</td>\n",
              "      <td>MULTILINESTRING ((108.552249 -6.74035, 108.553...</td>\n",
              "      <td>3</td>\n",
              "      <td>40.0</td>\n",
              "      <td>42.250000</td>\n",
              "      <td>21.764179</td>\n",
              "      <td>59.0</td>\n",
              "      <td>59.0</td>\n",
              "      <td>...</td>\n",
              "      <td>7.902390</td>\n",
              "      <td>7.0</td>\n",
              "      <td>7.0</td>\n",
              "      <td>12.0</td>\n",
              "      <td>1286.0</td>\n",
              "      <td>2.652411</td>\n",
              "      <td>0.819807</td>\n",
              "      <td>3.0</td>\n",
              "      <td>3.0</td>\n",
              "      <td>3.0</td>\n",
              "    </tr>\n",
              "    <tr>\n",
              "      <th>17596</th>\n",
              "      <td>2022-09-06</td>\n",
              "      <td>2022-09-06 00:00:00.000</td>\n",
              "      <td>N14 Jenderal Ahmad Yani</td>\n",
              "      <td>MULTILINESTRING ((108.548133 -6.739574, 108.54...</td>\n",
              "      <td>2</td>\n",
              "      <td>40.0</td>\n",
              "      <td>42.250000</td>\n",
              "      <td>21.764179</td>\n",
              "      <td>59.0</td>\n",
              "      <td>59.0</td>\n",
              "      <td>...</td>\n",
              "      <td>7.902390</td>\n",
              "      <td>7.0</td>\n",
              "      <td>7.0</td>\n",
              "      <td>12.0</td>\n",
              "      <td>1286.0</td>\n",
              "      <td>2.652411</td>\n",
              "      <td>0.819807</td>\n",
              "      <td>3.0</td>\n",
              "      <td>3.0</td>\n",
              "      <td>3.0</td>\n",
              "    </tr>\n",
              "    <tr>\n",
              "      <th>17597</th>\n",
              "      <td>2022-09-06</td>\n",
              "      <td>2022-09-06 00:00:00.000</td>\n",
              "      <td>N14 Brigjen Darsono</td>\n",
              "      <td>MULTILINESTRING ((108.540233 -6.73113, 108.540...</td>\n",
              "      <td>3</td>\n",
              "      <td>2.0</td>\n",
              "      <td>61.000000</td>\n",
              "      <td>43.840620</td>\n",
              "      <td>61.0</td>\n",
              "      <td>61.0</td>\n",
              "      <td>...</td>\n",
              "      <td>6.743449</td>\n",
              "      <td>6.0</td>\n",
              "      <td>6.0</td>\n",
              "      <td>11.0</td>\n",
              "      <td>1269.0</td>\n",
              "      <td>2.928290</td>\n",
              "      <td>0.658884</td>\n",
              "      <td>3.0</td>\n",
              "      <td>3.0</td>\n",
              "      <td>3.0</td>\n",
              "    </tr>\n",
              "    <tr>\n",
              "      <th>17598</th>\n",
              "      <td>2022-09-06</td>\n",
              "      <td>2022-09-06 00:00:00.000</td>\n",
              "      <td>N14 Jenderal Ahmad Yani</td>\n",
              "      <td>LINESTRING (108.557466 -6.741308, 108.558148 -...</td>\n",
              "      <td>1</td>\n",
              "      <td>40.0</td>\n",
              "      <td>42.250000</td>\n",
              "      <td>21.764179</td>\n",
              "      <td>59.0</td>\n",
              "      <td>59.0</td>\n",
              "      <td>...</td>\n",
              "      <td>7.902390</td>\n",
              "      <td>7.0</td>\n",
              "      <td>7.0</td>\n",
              "      <td>12.0</td>\n",
              "      <td>1286.0</td>\n",
              "      <td>2.652411</td>\n",
              "      <td>0.819807</td>\n",
              "      <td>3.0</td>\n",
              "      <td>3.0</td>\n",
              "      <td>3.0</td>\n",
              "    </tr>\n",
              "    <tr>\n",
              "      <th>17599</th>\n",
              "      <td>2022-09-06</td>\n",
              "      <td>2022-09-06 00:00:00.000</td>\n",
              "      <td>Dokter Cipto Mangunkusumo</td>\n",
              "      <td>MULTILINESTRING ((108.550653 -6.715883, 108.55...</td>\n",
              "      <td>4</td>\n",
              "      <td>15.0</td>\n",
              "      <td>21.200000</td>\n",
              "      <td>19.079533</td>\n",
              "      <td>17.0</td>\n",
              "      <td>17.0</td>\n",
              "      <td>...</td>\n",
              "      <td>14.484696</td>\n",
              "      <td>9.0</td>\n",
              "      <td>9.0</td>\n",
              "      <td>19.0</td>\n",
              "      <td>1989.0</td>\n",
              "      <td>2.494721</td>\n",
              "      <td>0.914118</td>\n",
              "      <td>2.0</td>\n",
              "      <td>2.0</td>\n",
              "      <td>3.0</td>\n",
              "    </tr>\n",
              "  </tbody>\n",
              "</table>\n",
              "<p>17600 rows × 83 columns</p>\n",
              "</div>\n",
              "      <button class=\"colab-df-convert\" onclick=\"convertToInteractive('df-01230b42-001e-442b-a53b-3452d6cbae9e')\"\n",
              "              title=\"Convert this dataframe to an interactive table.\"\n",
              "              style=\"display:none;\">\n",
              "        \n",
              "  <svg xmlns=\"http://www.w3.org/2000/svg\" height=\"24px\"viewBox=\"0 0 24 24\"\n",
              "       width=\"24px\">\n",
              "    <path d=\"M0 0h24v24H0V0z\" fill=\"none\"/>\n",
              "    <path d=\"M18.56 5.44l.94 2.06.94-2.06 2.06-.94-2.06-.94-.94-2.06-.94 2.06-2.06.94zm-11 1L8.5 8.5l.94-2.06 2.06-.94-2.06-.94L8.5 2.5l-.94 2.06-2.06.94zm10 10l.94 2.06.94-2.06 2.06-.94-2.06-.94-.94-2.06-.94 2.06-2.06.94z\"/><path d=\"M17.41 7.96l-1.37-1.37c-.4-.4-.92-.59-1.43-.59-.52 0-1.04.2-1.43.59L10.3 9.45l-7.72 7.72c-.78.78-.78 2.05 0 2.83L4 21.41c.39.39.9.59 1.41.59.51 0 1.02-.2 1.41-.59l7.78-7.78 2.81-2.81c.8-.78.8-2.07 0-2.86zM5.41 20L4 18.59l7.72-7.72 1.47 1.35L5.41 20z\"/>\n",
              "  </svg>\n",
              "      </button>\n",
              "      \n",
              "  <style>\n",
              "    .colab-df-container {\n",
              "      display:flex;\n",
              "      flex-wrap:wrap;\n",
              "      gap: 12px;\n",
              "    }\n",
              "\n",
              "    .colab-df-convert {\n",
              "      background-color: #E8F0FE;\n",
              "      border: none;\n",
              "      border-radius: 50%;\n",
              "      cursor: pointer;\n",
              "      display: none;\n",
              "      fill: #1967D2;\n",
              "      height: 32px;\n",
              "      padding: 0 0 0 0;\n",
              "      width: 32px;\n",
              "    }\n",
              "\n",
              "    .colab-df-convert:hover {\n",
              "      background-color: #E2EBFA;\n",
              "      box-shadow: 0px 1px 2px rgba(60, 64, 67, 0.3), 0px 1px 3px 1px rgba(60, 64, 67, 0.15);\n",
              "      fill: #174EA6;\n",
              "    }\n",
              "\n",
              "    [theme=dark] .colab-df-convert {\n",
              "      background-color: #3B4455;\n",
              "      fill: #D2E3FC;\n",
              "    }\n",
              "\n",
              "    [theme=dark] .colab-df-convert:hover {\n",
              "      background-color: #434B5C;\n",
              "      box-shadow: 0px 1px 3px 1px rgba(0, 0, 0, 0.15);\n",
              "      filter: drop-shadow(0px 1px 2px rgba(0, 0, 0, 0.3));\n",
              "      fill: #FFFFFF;\n",
              "    }\n",
              "  </style>\n",
              "\n",
              "      <script>\n",
              "        const buttonEl =\n",
              "          document.querySelector('#df-01230b42-001e-442b-a53b-3452d6cbae9e button.colab-df-convert');\n",
              "        buttonEl.style.display =\n",
              "          google.colab.kernel.accessAllowed ? 'block' : 'none';\n",
              "\n",
              "        async function convertToInteractive(key) {\n",
              "          const element = document.querySelector('#df-01230b42-001e-442b-a53b-3452d6cbae9e');\n",
              "          const dataTable =\n",
              "            await google.colab.kernel.invokeFunction('convertToInteractive',\n",
              "                                                     [key], {});\n",
              "          if (!dataTable) return;\n",
              "\n",
              "          const docLinkHtml = 'Like what you see? Visit the ' +\n",
              "            '<a target=\"_blank\" href=https://colab.research.google.com/notebooks/data_table.ipynb>data table notebook</a>'\n",
              "            + ' to learn more about interactive tables.';\n",
              "          element.innerHTML = '';\n",
              "          dataTable['output_type'] = 'display_data';\n",
              "          await google.colab.output.renderOutput(dataTable, element);\n",
              "          const docLink = document.createElement('div');\n",
              "          docLink.innerHTML = docLinkHtml;\n",
              "          element.appendChild(docLink);\n",
              "        }\n",
              "      </script>\n",
              "    </div>\n",
              "  </div>\n",
              "  "
            ]
          },
          "metadata": {},
          "execution_count": 4
        }
      ],
      "source": [
        "data"
      ]
    },
    {
      "cell_type": "markdown",
      "metadata": {
        "id": "uI5GbzlUrjsT"
      },
      "source": [
        "## Train Test Split"
      ]
    },
    {
      "cell_type": "code",
      "execution_count": 5,
      "metadata": {
        "id": "p2d7hRpUrjN1"
      },
      "outputs": [],
      "source": [
        "X = data.iloc[:, 5:83]\n",
        "y = data[['level']]"
      ]
    },
    {
      "cell_type": "code",
      "execution_count": 6,
      "metadata": {
        "id": "iwj6PriQsCMS"
      },
      "outputs": [],
      "source": [
        "#Library for Data Preprocessing\n",
        "import sklearn\n",
        "from sklearn.preprocessing import StandardScaler\n",
        "from sklearn.preprocessing import LabelEncoder\n",
        "from sklearn.model_selection import train_test_split"
      ]
    },
    {
      "cell_type": "code",
      "execution_count": 7,
      "metadata": {
        "id": "qw8nXeyWt55A"
      },
      "outputs": [],
      "source": [
        "X_train, X_test, y_train, y_test = train_test_split(X, y, test_size = 0.3, random_state=0)"
      ]
    },
    {
      "cell_type": "markdown",
      "metadata": {
        "id": "IWmpFEgVuEjW"
      },
      "source": [
        "## Feature Scaling"
      ]
    },
    {
      "cell_type": "code",
      "execution_count": 8,
      "metadata": {
        "id": "vndHNwk5uEII"
      },
      "outputs": [],
      "source": [
        "sc = StandardScaler()\n",
        "X_train = sc.fit_transform(X_train)\n",
        "X_test = sc.fit_transform(X_test)"
      ]
    },
    {
      "cell_type": "markdown",
      "metadata": {
        "id": "nFxP6KsPuXoj"
      },
      "source": [
        "## Modelling"
      ]
    },
    {
      "cell_type": "code",
      "execution_count": 9,
      "metadata": {
        "id": "Y7tnHdGuumv8"
      },
      "outputs": [],
      "source": [
        "from sklearn.model_selection import train_test_split, GridSearchCV, cross_val_score, KFold, RepeatedKFold\n",
        "from sklearn.metrics import mean_squared_error\n",
        "from sklearn.linear_model import LinearRegression\n",
        "from sklearn.tree import DecisionTreeRegressor\n",
        "from sklearn.ensemble import RandomForestRegressor,GradientBoostingRegressor\n",
        "from sklearn.svm import SVR\n",
        "from sklearn.neighbors import KNeighborsRegressor\n",
        "from sklearn.neural_network import MLPRegressor\n",
        "from sklearn.multioutput import MultiOutputRegressor, RegressorChain\n",
        "from sklearn.decomposition import PCA\n",
        "from sklearn.metrics import mean_absolute_error, mean_absolute_percentage_error"
      ]
    },
    {
      "cell_type": "code",
      "execution_count": 10,
      "metadata": {
        "id": "UgQJ8IIouZbz"
      },
      "outputs": [],
      "source": [
        "# Create function to run different models and return rmse\n",
        "def modeling(X_train, X_test, y_train, y_test):\n",
        "    models = []\n",
        "    models.append(('LR', LinearRegression()))\n",
        "    models.append(('KNN', KNeighborsRegressor()))\n",
        "    models.append(('DT', DecisionTreeRegressor(random_state = 1)))\n",
        "    models.append(('RF', RandomForestRegressor(random_state = 1)))\n",
        "    models.append(('GB', MultiOutputRegressor(GradientBoostingRegressor(random_state = 1))))\n",
        "#    models.append(('RG-SVR', RegressorChain(SVR())))\n",
        "\n",
        "    #Evaluate each model in turn\n",
        "    names = []\n",
        "    rmses = []\n",
        "    \n",
        "    for name, model in models:\n",
        "#    cv = RepeatedKFold(n_splits=3, n_repeats=3, random_state=1)\n",
        "#    cv_scores = cross_val_score(model, X_train, y_train, scoring='neg_mean_absolute_error', cv=cv, n_jobs=-1)\n",
        "        model.fit (X_train, y_train)\n",
        "        y_pred = model.predict(X_test)\n",
        "        mse = mean_squared_error (y_test, y_pred)\n",
        "        rmse = np.sqrt(mse)\n",
        "        mae = mean_absolute_error(y_test, y_pred)\n",
        "        mape = mean_absolute_percentage_error(y_test, y_pred)\n",
        "        print (f'{name} : mse {mse} - rmse {rmse} - mae {mae} - mape {mape*100}')\n",
        "        names.append(name)\n",
        "        rmses.append(rmse)\n",
        "    return names, rmses"
      ]
    },
    {
      "cell_type": "code",
      "execution_count": 11,
      "metadata": {
        "colab": {
          "base_uri": "https://localhost:8080/"
        },
        "id": "PJ8dQqqkutF7",
        "outputId": "6e739cae-293e-42f5-8804-9da369fff136"
      },
      "outputs": [
        {
          "output_type": "stream",
          "name": "stdout",
          "text": [
            "Scaled Data Modeling :\n",
            "LR : mse 6.547306367400203e+20 - rmse 25587704796.249706 - mae 19317622495.37724 - mape 854762395861.0549\n",
            "KNN : mse 0.6234242424242424 - rmse 0.789572189495199 - mae 0.6110606060606061 - mape 29.02809343434344\n",
            "DT : mse 0.5794070853041848 - rmse 0.7611879434832011 - mae 0.603882209091912 - mape 29.081198971128885\n",
            "RF : mse 0.5790138061784355 - rmse 0.7609295671600858 - mae 0.6039004409904616 - mape 29.00538625938366\n",
            "GB : mse 0.5783955082183602 - rmse 0.7605231805923868 - mae 0.6013499742668279 - mape 28.900926790652314\n"
          ]
        }
      ],
      "source": [
        "# run modeling function on scaled data\n",
        "print (\"Scaled Data Modeling :\")\n",
        "names, rmses = modeling (X_train, X_test, y_train, y_test)"
      ]
    },
    {
      "cell_type": "code",
      "execution_count": 12,
      "metadata": {
        "colab": {
          "base_uri": "https://localhost:8080/",
          "height": 296
        },
        "id": "lOTi0AfPxGk0",
        "outputId": "b4e15c25-3aab-4fa0-cfef-3f16a479567c"
      },
      "outputs": [
        {
          "output_type": "execute_result",
          "data": {
            "text/plain": [
              "Text(0.5, 0, 'PCA feature')"
            ]
          },
          "metadata": {},
          "execution_count": 12
        },
        {
          "output_type": "display_data",
          "data": {
            "text/plain": [
              "<Figure size 432x288 with 1 Axes>"
            ],
            "image/png": "[encoded data removed]"
          },
          "metadata": {
            "needs_background": "light"
          }
        }
      ],
      "source": [
        "# We create PCA and plot variance explained\n",
        "pca = PCA()\n",
        "pca.fit_transform(X_train)\n",
        "features = range(pca.n_components_)\n",
        "plt.bar(features, pca.explained_variance_)\n",
        "plt.ylabel('variance explained')\n",
        "plt.xlabel('PCA feature')"
      ]
    },
    {
      "cell_type": "code",
      "execution_count": 13,
      "metadata": {
        "colab": {
          "base_uri": "https://localhost:8080/",
          "height": 296
        },
        "id": "t-z8UlQRxp4R",
        "outputId": "59a6dace-5016-4f0c-abe0-bc10ad9c3568"
      },
      "outputs": [
        {
          "output_type": "execute_result",
          "data": {
            "text/plain": [
              "Text(0, 0.5, 'cumulative variance ratio')"
            ]
          },
          "metadata": {},
          "execution_count": 13
        },
        {
          "output_type": "display_data",
          "data": {
            "text/plain": [
              "<Figure size 432x288 with 1 Axes>"
            ],
            "image/png": "[encoded data removed]"
          },
          "metadata": {
            "needs_background": "light"
          }
        }
      ],
      "source": [
        "# We also plot the explained variance ratio.\n",
        "plt.plot(pca.explained_variance_ratio_)\n",
        "plt.xlabel('number of components')\n",
        "plt.ylabel('cumulative variance ratio')"
      ]
    },
    {
      "cell_type": "code",
      "execution_count": 14,
      "metadata": {
        "colab": {
          "base_uri": "https://localhost:8080/",
          "height": 296
        },
        "id": "x10dXv7yxtv9",
        "outputId": "5581689b-f60b-4c7c-bdaa-376d2404d807"
      },
      "outputs": [
        {
          "output_type": "execute_result",
          "data": {
            "text/plain": [
              "(0.0, 1.1)"
            ]
          },
          "metadata": {},
          "execution_count": 14
        },
        {
          "output_type": "display_data",
          "data": {
            "text/plain": [
              "<Figure size 432x288 with 1 Axes>"
            ],
            "image/png": "[encoded data removed]"
          },
          "metadata": {
            "needs_background": "light"
          }
        }
      ],
      "source": [
        "# We also plot the cumultive explained variance ratio.\n",
        "plt.plot(np.cumsum(pca.explained_variance_ratio_))\n",
        "plt.xlabel('number of components')\n",
        "plt.ylabel('cumulative variance')\n",
        "plt.ylim([0,1.1])"
      ]
    },
    {
      "cell_type": "code",
      "execution_count": 15,
      "metadata": {
        "colab": {
          "base_uri": "https://localhost:8080/"
        },
        "id": "q0Ciebscxyo3",
        "outputId": "4ab15805-1648-45a2-e9dc-048bbebb2780"
      },
      "outputs": [
        {
          "output_type": "stream",
          "name": "stdout",
          "text": [
            "Number of components with explained variance ratio >= 0.01 : 5\n",
            "Total explained variance retained : 0.9566\n"
          ]
        }
      ],
      "source": [
        "print (\"Number of components with explained variance ratio >= 0.01 :\", (pca.explained_variance_ratio_>=0.05).sum())\n",
        "print (f\"Total explained variance retained : {pca.explained_variance_ratio_[:np.sum(pca.explained_variance_ratio_>=.01)].sum():2.4f}\")"
      ]
    },
    {
      "cell_type": "code",
      "execution_count": 16,
      "metadata": {
        "colab": {
          "base_uri": "https://localhost:8080/",
          "height": 206
        },
        "id": "FFnr8Jubx7Zr",
        "outputId": "f50b5147-1a42-4437-da16-69834c69064a"
      },
      "outputs": [
        {
          "output_type": "execute_result",
          "data": {
            "text/plain": [
              "        PC0       PC1       PC2       PC3       PC4       PC5       PC6  \\\n",
              "0  0.748658  1.130052 -2.051038  3.349475  1.280453  0.655038  1.231923   \n",
              "1  9.315608 -0.880136 -0.823213 -0.950790 -0.338191 -3.074728 -0.248631   \n",
              "2 -5.931539  1.471687  3.738226  2.296319  1.750578 -2.982771  0.012040   \n",
              "3 -0.338228  1.682974 -4.819279  0.076577  0.244397  0.711504 -0.081375   \n",
              "4 -0.965191  2.301399  2.867650  0.201286  3.521696  1.357199 -0.402099   \n",
              "\n",
              "        PC7       PC8  \n",
              "0  0.155803 -1.714103  \n",
              "1  0.830848  0.381923  \n",
              "2 -0.017773  0.825785  \n",
              "3 -0.305761 -0.606823  \n",
              "4 -1.081931 -0.994900  "
            ],
            "text/html": [
              "\n",
              "  <div id=\"df-916ecf9a-530a-4df7-99a5-882c8acb7f85\">\n",
              "    <div class=\"colab-df-container\">\n",
              "      <div>\n",
              "<style scoped>\n",
              "    .dataframe tbody tr th:only-of-type {\n",
              "        vertical-align: middle;\n",
              "    }\n",
              "\n",
              "    .dataframe tbody tr th {\n",
              "        vertical-align: top;\n",
              "    }\n",
              "\n",
              "    .dataframe thead th {\n",
              "        text-align: right;\n",
              "    }\n",
              "</style>\n",
              "<table border=\"1\" class=\"dataframe\">\n",
              "  <thead>\n",
              "    <tr style=\"text-align: right;\">\n",
              "      <th></th>\n",
              "      <th>PC0</th>\n",
              "      <th>PC1</th>\n",
              "      <th>PC2</th>\n",
              "      <th>PC3</th>\n",
              "      <th>PC4</th>\n",
              "      <th>PC5</th>\n",
              "      <th>PC6</th>\n",
              "      <th>PC7</th>\n",
              "      <th>PC8</th>\n",
              "    </tr>\n",
              "  </thead>\n",
              "  <tbody>\n",
              "    <tr>\n",
              "      <th>0</th>\n",
              "      <td>0.748658</td>\n",
              "      <td>1.130052</td>\n",
              "      <td>-2.051038</td>\n",
              "      <td>3.349475</td>\n",
              "      <td>1.280453</td>\n",
              "      <td>0.655038</td>\n",
              "      <td>1.231923</td>\n",
              "      <td>0.155803</td>\n",
              "      <td>-1.714103</td>\n",
              "    </tr>\n",
              "    <tr>\n",
              "      <th>1</th>\n",
              "      <td>9.315608</td>\n",
              "      <td>-0.880136</td>\n",
              "      <td>-0.823213</td>\n",
              "      <td>-0.950790</td>\n",
              "      <td>-0.338191</td>\n",
              "      <td>-3.074728</td>\n",
              "      <td>-0.248631</td>\n",
              "      <td>0.830848</td>\n",
              "      <td>0.381923</td>\n",
              "    </tr>\n",
              "    <tr>\n",
              "      <th>2</th>\n",
              "      <td>-5.931539</td>\n",
              "      <td>1.471687</td>\n",
              "      <td>3.738226</td>\n",
              "      <td>2.296319</td>\n",
              "      <td>1.750578</td>\n",
              "      <td>-2.982771</td>\n",
              "      <td>0.012040</td>\n",
              "      <td>-0.017773</td>\n",
              "      <td>0.825785</td>\n",
              "    </tr>\n",
              "    <tr>\n",
              "      <th>3</th>\n",
              "      <td>-0.338228</td>\n",
              "      <td>1.682974</td>\n",
              "      <td>-4.819279</td>\n",
              "      <td>0.076577</td>\n",
              "      <td>0.244397</td>\n",
              "      <td>0.711504</td>\n",
              "      <td>-0.081375</td>\n",
              "      <td>-0.305761</td>\n",
              "      <td>-0.606823</td>\n",
              "    </tr>\n",
              "    <tr>\n",
              "      <th>4</th>\n",
              "      <td>-0.965191</td>\n",
              "      <td>2.301399</td>\n",
              "      <td>2.867650</td>\n",
              "      <td>0.201286</td>\n",
              "      <td>3.521696</td>\n",
              "      <td>1.357199</td>\n",
              "      <td>-0.402099</td>\n",
              "      <td>-1.081931</td>\n",
              "      <td>-0.994900</td>\n",
              "    </tr>\n",
              "  </tbody>\n",
              "</table>\n",
              "</div>\n",
              "      <button class=\"colab-df-convert\" onclick=\"convertToInteractive('df-916ecf9a-530a-4df7-99a5-882c8acb7f85')\"\n",
              "              title=\"Convert this dataframe to an interactive table.\"\n",
              "              style=\"display:none;\">\n",
              "        \n",
              "  <svg xmlns=\"http://www.w3.org/2000/svg\" height=\"24px\"viewBox=\"0 0 24 24\"\n",
              "       width=\"24px\">\n",
              "    <path d=\"M0 0h24v24H0V0z\" fill=\"none\"/>\n",
              "    <path d=\"M18.56 5.44l.94 2.06.94-2.06 2.06-.94-2.06-.94-.94-2.06-.94 2.06-2.06.94zm-11 1L8.5 8.5l.94-2.06 2.06-.94-2.06-.94L8.5 2.5l-.94 2.06-2.06.94zm10 10l.94 2.06.94-2.06 2.06-.94-2.06-.94-.94-2.06-.94 2.06-2.06.94z\"/><path d=\"M17.41 7.96l-1.37-1.37c-.4-.4-.92-.59-1.43-.59-.52 0-1.04.2-1.43.59L10.3 9.45l-7.72 7.72c-.78.78-.78 2.05 0 2.83L4 21.41c.39.39.9.59 1.41.59.51 0 1.02-.2 1.41-.59l7.78-7.78 2.81-2.81c.8-.78.8-2.07 0-2.86zM5.41 20L4 18.59l7.72-7.72 1.47 1.35L5.41 20z\"/>\n",
              "  </svg>\n",
              "      </button>\n",
              "      \n",
              "  <style>\n",
              "    .colab-df-container {\n",
              "      display:flex;\n",
              "      flex-wrap:wrap;\n",
              "      gap: 12px;\n",
              "    }\n",
              "\n",
              "    .colab-df-convert {\n",
              "      background-color: #E8F0FE;\n",
              "      border: none;\n",
              "      border-radius: 50%;\n",
              "      cursor: pointer;\n",
              "      display: none;\n",
              "      fill: #1967D2;\n",
              "      height: 32px;\n",
              "      padding: 0 0 0 0;\n",
              "      width: 32px;\n",
              "    }\n",
              "\n",
              "    .colab-df-convert:hover {\n",
              "      background-color: #E2EBFA;\n",
              "      box-shadow: 0px 1px 2px rgba(60, 64, 67, 0.3), 0px 1px 3px 1px rgba(60, 64, 67, 0.15);\n",
              "      fill: #174EA6;\n",
              "    }\n",
              "\n",
              "    [theme=dark] .colab-df-convert {\n",
              "      background-color: #3B4455;\n",
              "      fill: #D2E3FC;\n",
              "    }\n",
              "\n",
              "    [theme=dark] .colab-df-convert:hover {\n",
              "      background-color: #434B5C;\n",
              "      box-shadow: 0px 1px 3px 1px rgba(0, 0, 0, 0.15);\n",
              "      filter: drop-shadow(0px 1px 2px rgba(0, 0, 0, 0.3));\n",
              "      fill: #FFFFFF;\n",
              "    }\n",
              "  </style>\n",
              "\n",
              "      <script>\n",
              "        const buttonEl =\n",
              "          document.querySelector('#df-916ecf9a-530a-4df7-99a5-882c8acb7f85 button.colab-df-convert');\n",
              "        buttonEl.style.display =\n",
              "          google.colab.kernel.accessAllowed ? 'block' : 'none';\n",
              "\n",
              "        async function convertToInteractive(key) {\n",
              "          const element = document.querySelector('#df-916ecf9a-530a-4df7-99a5-882c8acb7f85');\n",
              "          const dataTable =\n",
              "            await google.colab.kernel.invokeFunction('convertToInteractive',\n",
              "                                                     [key], {});\n",
              "          if (!dataTable) return;\n",
              "\n",
              "          const docLinkHtml = 'Like what you see? Visit the ' +\n",
              "            '<a target=\"_blank\" href=https://colab.research.google.com/notebooks/data_table.ipynb>data table notebook</a>'\n",
              "            + ' to learn more about interactive tables.';\n",
              "          element.innerHTML = '';\n",
              "          dataTable['output_type'] = 'display_data';\n",
              "          await google.colab.output.renderOutput(dataTable, element);\n",
              "          const docLink = document.createElement('div');\n",
              "          docLink.innerHTML = docLinkHtml;\n",
              "          element.appendChild(docLink);\n",
              "        }\n",
              "      </script>\n",
              "    </div>\n",
              "  </div>\n",
              "  "
            ]
          },
          "metadata": {},
          "execution_count": 16
        }
      ],
      "source": [
        "# create a pca dataframe based on 95% explained variance retained \n",
        "pca = PCA(n_components=.95).fit(X_train)\n",
        "pca_train = pca.transform(X_train)\n",
        "pca_test = pca.transform(X_test)\n",
        "col_lst = []\n",
        "for i in range(0,pca_train.shape[1]):\n",
        "    col_lst.append(f'PC{i}')\n",
        "    \n",
        "X_pca_train = pd.DataFrame(pca_train,columns=col_lst)\n",
        "X_pca_test = pd.DataFrame(pca_test,columns=col_lst)\n",
        "X_pca_train.head()"
      ]
    },
    {
      "cell_type": "code",
      "execution_count": 17,
      "metadata": {
        "colab": {
          "base_uri": "https://localhost:8080/"
        },
        "id": "DVFLkZldyMn5",
        "outputId": "5c2b340b-aabf-429c-8610-557688cde9a7"
      },
      "outputs": [
        {
          "output_type": "stream",
          "name": "stdout",
          "text": [
            "PCA Data Modeling :\n",
            "LR : mse 0.5881865079419029 - rmse 0.7669331834924753 - mae 0.6097092474138127 - mape 29.301598635560904\n",
            "KNN : mse 0.6749848484848485 - rmse 0.8215746152875273 - mae 0.66 - mape 30.98453282828283\n",
            "DT : mse 0.59361533328076 - rmse 0.7704643621094749 - mae 0.616040503727223 - mape 29.157985917398683\n",
            "RF : mse 0.6041241803355781 - rmse 0.7772542572000349 - mae 0.6207992683345205 - mape 29.495063367288214\n",
            "GB : mse 0.5937495837393757 - rmse 0.7705514802655146 - mae 0.6245862075454481 - mape 29.976126347726158\n"
          ]
        }
      ],
      "source": [
        "# run modeling function on pca data\n",
        "print (\"PCA Data Modeling :\")\n",
        "pca_names, pca_rmses = modeling (X_pca_train, X_pca_test, y_train, y_test)"
      ]
    },
    {
      "cell_type": "markdown",
      "source": [
        "## Hyperparameter Tuning"
      ],
      "metadata": {
        "id": "-h2oQzGd9mTG"
      }
    },
    {
      "cell_type": "code",
      "execution_count": 18,
      "metadata": {
        "id": "zZywDYrQ55iZ"
      },
      "outputs": [],
      "source": [
        "def hyperparameter_tuning(X_train, y_train, model_name):\n",
        "    if model_name == 'Linear Regression':\n",
        "        model = LinearRegression()\n",
        "        parameters = {'normalize': [True, False]}\n",
        "    elif model_name == 'K-Nearest Neighbors Regression':\n",
        "        model = KNeighborsRegressor()\n",
        "        parameters = {'n_neighbors': [3, 5, 7], 'weights': ['uniform', 'distance']}\n",
        "    elif model_name == 'Decision Tree Regression':\n",
        "        model = DecisionTreeRegressor()\n",
        "        parameters = {'max_depth': [None, 5, 10], 'min_samples_split': [2, 5, 10]}\n",
        "    elif model_name == 'Random Forest Regression':\n",
        "        model = RandomForestRegressor()\n",
        "        parameters = {'n_estimators': [100, 200, 500], 'max_depth': [None, 5, 10], 'min_samples_split': [2, 5, 10]}\n",
        "    elif model_name == 'Gradient Boosting Regression':\n",
        "        model = GradientBoostingRegressor()\n",
        "        parameters = {'n_estimators': [100, 200, 500], 'learning_rate': [0.01, 0.1, 1.0], 'max_depth': [3, 5, 10]}\n",
        "\n",
        "    clf = GridSearchCV(model, parameters, cv=5, n_jobs=-1)\n",
        "    clf.fit(X_train, y_train)\n",
        "    \n",
        "    print(\"Best parameters set found on development set:\"+'_'+model_name)\n",
        "    print(clf.best_params_)\n",
        "    print()\n",
        "    print(\"Grid scores on development set:\")\n",
        "    means = clf.cv_results_['mean_test_score']\n",
        "    stds = clf.cv_results_['std_test_score']\n",
        "    for mean, std, params in zip(means, stds, clf.cv_results_['params']):\n",
        "        print(\"%0.3f (+/-%0.03f) for %r\"\n",
        "              % (mean, std * 2, params))\n",
        "    print()\n",
        "\n",
        "    return clf.best_estimator_"
      ]
    },
    {
      "cell_type": "code",
      "execution_count": 19,
      "metadata": {
        "colab": {
          "base_uri": "https://localhost:8080/"
        },
        "id": "jMk02nZ5T7My",
        "outputId": "63a4a7bc-4b4c-4304-b11f-16cf81333842"
      },
      "outputs": [
        {
          "output_type": "stream",
          "name": "stdout",
          "text": [
            "Best parameters set found on development set:_Linear Regression\n",
            "{'normalize': True}\n",
            "\n",
            "Grid scores on development set:\n",
            "0.249 (+/-0.036) for {'normalize': True}\n",
            "0.249 (+/-0.037) for {'normalize': False}\n",
            "\n",
            "Best parameters set found on development set:_K-Nearest Neighbors Regression\n",
            "{'n_neighbors': 7, 'weights': 'uniform'}\n",
            "\n",
            "Grid scores on development set:\n",
            "0.107 (+/-0.044) for {'n_neighbors': 3, 'weights': 'uniform'}\n",
            "0.106 (+/-0.043) for {'n_neighbors': 3, 'weights': 'distance'}\n",
            "0.111 (+/-0.062) for {'n_neighbors': 5, 'weights': 'uniform'}\n",
            "0.109 (+/-0.062) for {'n_neighbors': 5, 'weights': 'distance'}\n",
            "0.152 (+/-0.062) for {'n_neighbors': 7, 'weights': 'uniform'}\n",
            "0.150 (+/-0.062) for {'n_neighbors': 7, 'weights': 'distance'}\n",
            "\n",
            "Best parameters set found on development set:_Decision Tree Regression\n",
            "{'max_depth': 5, 'min_samples_split': 5}\n",
            "\n",
            "Grid scores on development set:\n",
            "0.248 (+/-0.031) for {'max_depth': None, 'min_samples_split': 2}\n",
            "0.248 (+/-0.031) for {'max_depth': None, 'min_samples_split': 5}\n",
            "0.248 (+/-0.031) for {'max_depth': None, 'min_samples_split': 10}\n",
            "0.251 (+/-0.029) for {'max_depth': 5, 'min_samples_split': 2}\n",
            "0.251 (+/-0.029) for {'max_depth': 5, 'min_samples_split': 5}\n",
            "0.251 (+/-0.029) for {'max_depth': 5, 'min_samples_split': 10}\n",
            "0.248 (+/-0.031) for {'max_depth': 10, 'min_samples_split': 2}\n",
            "0.248 (+/-0.031) for {'max_depth': 10, 'min_samples_split': 5}\n",
            "0.248 (+/-0.031) for {'max_depth': 10, 'min_samples_split': 10}\n",
            "\n",
            "Best parameters set found on development set:_Random Forest Regression\n",
            "{'max_depth': 5, 'min_samples_split': 5, 'n_estimators': 100}\n",
            "\n",
            "Grid scores on development set:\n",
            "0.249 (+/-0.031) for {'max_depth': None, 'min_samples_split': 2, 'n_estimators': 100}\n",
            "0.249 (+/-0.031) for {'max_depth': None, 'min_samples_split': 2, 'n_estimators': 200}\n",
            "0.249 (+/-0.031) for {'max_depth': None, 'min_samples_split': 2, 'n_estimators': 500}\n",
            "0.249 (+/-0.031) for {'max_depth': None, 'min_samples_split': 5, 'n_estimators': 100}\n",
            "0.249 (+/-0.031) for {'max_depth': None, 'min_samples_split': 5, 'n_estimators': 200}\n",
            "0.249 (+/-0.031) for {'max_depth': None, 'min_samples_split': 5, 'n_estimators': 500}\n",
            "0.250 (+/-0.031) for {'max_depth': None, 'min_samples_split': 10, 'n_estimators': 100}\n",
            "0.249 (+/-0.031) for {'max_depth': None, 'min_samples_split': 10, 'n_estimators': 200}\n",
            "0.250 (+/-0.031) for {'max_depth': None, 'min_samples_split': 10, 'n_estimators': 500}\n",
            "0.253 (+/-0.030) for {'max_depth': 5, 'min_samples_split': 2, 'n_estimators': 100}\n",
            "0.253 (+/-0.031) for {'max_depth': 5, 'min_samples_split': 2, 'n_estimators': 200}\n",
            "0.253 (+/-0.031) for {'max_depth': 5, 'min_samples_split': 2, 'n_estimators': 500}\n",
            "0.253 (+/-0.030) for {'max_depth': 5, 'min_samples_split': 5, 'n_estimators': 100}\n",
            "0.253 (+/-0.031) for {'max_depth': 5, 'min_samples_split': 5, 'n_estimators': 200}\n",
            "0.253 (+/-0.031) for {'max_depth': 5, 'min_samples_split': 5, 'n_estimators': 500}\n",
            "0.252 (+/-0.031) for {'max_depth': 5, 'min_samples_split': 10, 'n_estimators': 100}\n",
            "0.253 (+/-0.031) for {'max_depth': 5, 'min_samples_split': 10, 'n_estimators': 200}\n",
            "0.253 (+/-0.031) for {'max_depth': 5, 'min_samples_split': 10, 'n_estimators': 500}\n",
            "0.249 (+/-0.031) for {'max_depth': 10, 'min_samples_split': 2, 'n_estimators': 100}\n",
            "0.249 (+/-0.031) for {'max_depth': 10, 'min_samples_split': 2, 'n_estimators': 200}\n",
            "0.249 (+/-0.031) for {'max_depth': 10, 'min_samples_split': 2, 'n_estimators': 500}\n",
            "0.249 (+/-0.031) for {'max_depth': 10, 'min_samples_split': 5, 'n_estimators': 100}\n",
            "0.249 (+/-0.031) for {'max_depth': 10, 'min_samples_split': 5, 'n_estimators': 200}\n",
            "0.249 (+/-0.031) for {'max_depth': 10, 'min_samples_split': 5, 'n_estimators': 500}\n",
            "0.250 (+/-0.031) for {'max_depth': 10, 'min_samples_split': 10, 'n_estimators': 100}\n",
            "0.249 (+/-0.031) for {'max_depth': 10, 'min_samples_split': 10, 'n_estimators': 200}\n",
            "0.250 (+/-0.031) for {'max_depth': 10, 'min_samples_split': 10, 'n_estimators': 500}\n",
            "\n",
            "Best parameters set found on development set:_Gradient Boosting Regression\n",
            "{'learning_rate': 0.01, 'max_depth': 3, 'n_estimators': 500}\n",
            "\n",
            "Grid scores on development set:\n",
            "0.216 (+/-0.019) for {'learning_rate': 0.01, 'max_depth': 3, 'n_estimators': 100}\n",
            "0.248 (+/-0.026) for {'learning_rate': 0.01, 'max_depth': 3, 'n_estimators': 200}\n",
            "0.253 (+/-0.031) for {'learning_rate': 0.01, 'max_depth': 3, 'n_estimators': 500}\n",
            "0.220 (+/-0.018) for {'learning_rate': 0.01, 'max_depth': 5, 'n_estimators': 100}\n",
            "0.248 (+/-0.026) for {'learning_rate': 0.01, 'max_depth': 5, 'n_estimators': 200}\n",
            "0.249 (+/-0.031) for {'learning_rate': 0.01, 'max_depth': 5, 'n_estimators': 500}\n",
            "0.218 (+/-0.018) for {'learning_rate': 0.01, 'max_depth': 10, 'n_estimators': 100}\n",
            "0.245 (+/-0.026) for {'learning_rate': 0.01, 'max_depth': 10, 'n_estimators': 200}\n",
            "0.248 (+/-0.031) for {'learning_rate': 0.01, 'max_depth': 10, 'n_estimators': 500}\n",
            "0.251 (+/-0.031) for {'learning_rate': 0.1, 'max_depth': 3, 'n_estimators': 100}\n",
            "0.249 (+/-0.031) for {'learning_rate': 0.1, 'max_depth': 3, 'n_estimators': 200}\n",
            "0.248 (+/-0.031) for {'learning_rate': 0.1, 'max_depth': 3, 'n_estimators': 500}\n",
            "0.248 (+/-0.031) for {'learning_rate': 0.1, 'max_depth': 5, 'n_estimators': 100}\n",
            "0.248 (+/-0.031) for {'learning_rate': 0.1, 'max_depth': 5, 'n_estimators': 200}\n",
            "0.248 (+/-0.031) for {'learning_rate': 0.1, 'max_depth': 5, 'n_estimators': 500}\n",
            "0.248 (+/-0.031) for {'learning_rate': 0.1, 'max_depth': 10, 'n_estimators': 100}\n",
            "0.248 (+/-0.031) for {'learning_rate': 0.1, 'max_depth': 10, 'n_estimators': 200}\n",
            "0.248 (+/-0.031) for {'learning_rate': 0.1, 'max_depth': 10, 'n_estimators': 500}\n",
            "0.247 (+/-0.030) for {'learning_rate': 1.0, 'max_depth': 3, 'n_estimators': 100}\n",
            "0.247 (+/-0.030) for {'learning_rate': 1.0, 'max_depth': 3, 'n_estimators': 200}\n",
            "0.247 (+/-0.030) for {'learning_rate': 1.0, 'max_depth': 3, 'n_estimators': 500}\n",
            "0.248 (+/-0.030) for {'learning_rate': 1.0, 'max_depth': 5, 'n_estimators': 100}\n",
            "0.248 (+/-0.031) for {'learning_rate': 1.0, 'max_depth': 5, 'n_estimators': 200}\n",
            "0.248 (+/-0.030) for {'learning_rate': 1.0, 'max_depth': 5, 'n_estimators': 500}\n",
            "0.248 (+/-0.031) for {'learning_rate': 1.0, 'max_depth': 10, 'n_estimators': 100}\n",
            "0.248 (+/-0.031) for {'learning_rate': 1.0, 'max_depth': 10, 'n_estimators': 200}\n",
            "0.248 (+/-0.031) for {'learning_rate': 1.0, 'max_depth': 10, 'n_estimators': 500}\n",
            "\n"
          ]
        }
      ],
      "source": [
        "# Perform hyperparameter tuning for Linear Regression\n",
        "best_linear_reg = hyperparameter_tuning(X_train, y_train, 'Linear Regression')\n",
        "\n",
        "# Perform hyperparameter tuning for K-Nearest Neighbors Regression\n",
        "best_knn_reg = hyperparameter_tuning(X_train, y_train, 'K-Nearest Neighbors Regression')\n",
        "\n",
        "# Perform hyperparameter tuning for Decision Tree Regression\n",
        "best_decision_tree_reg = hyperparameter_tuning(X_train, y_train, 'Decision Tree Regression')\n",
        "\n",
        "# Perform hyperparameter tuning for Random Forest Regression\n",
        "best_random_forest_reg = hyperparameter_tuning(X_train, y_train, 'Random Forest Regression')\n",
        "\n",
        "# Perform hyperparameter tuning for Gradient Boosting Regression\n",
        "best_gradient_boosting_reg = hyperparameter_tuning(X_train, y_train, 'Gradient Boosting Regression')"
      ]
    },
    {
      "cell_type": "code",
      "source": [
        "#Hyperparameter\n",
        "LR_params = {'normalize': True}\n",
        "KNN_params = {'n_neighbors': 7, 'weights': 'uniform'}\n",
        "DT_params = {'max_depth': 5, 'min_samples_split': 5}\n",
        "RF_params = {'max_depth': 5, 'min_samples_split': 5, 'n_estimators': 100}\n",
        "GB_params = {'learning_rate': 0.01, 'max_depth': 3, 'n_estimators': 500}"
      ],
      "metadata": {
        "id": "dm6g49KvO7xA"
      },
      "execution_count": 23,
      "outputs": []
    },
    {
      "cell_type": "code",
      "source": [
        "# Create function to run different models and return rmse\n",
        "def modeling_tuning(X_train, X_test, y_train, y_test):\n",
        "    models = []\n",
        "    models.append(('LR', LinearRegression(**LR_params)))\n",
        "    models.append(('KNN', KNeighborsRegressor(**KNN_params)))\n",
        "    models.append(('DT', DecisionTreeRegressor(**DT_params, random_state = 1)))\n",
        "    models.append(('RF', RandomForestRegressor(**RF_params, random_state = 1)))\n",
        "    models.append(('GB', MultiOutputRegressor(GradientBoostingRegressor(**GB_params, random_state = 1))))\n",
        "#    models.append(('RG-SVR', RegressorChain(SVR())))\n",
        "\n",
        "    #Evaluate each model in turn\n",
        "    names = []\n",
        "    rmses = []\n",
        "    \n",
        "    for name, model in models:\n",
        "#    cv = RepeatedKFold(n_splits=3, n_repeats=3, random_state=1)\n",
        "#    cv_scores = cross_val_score(model, X_train, y_train, scoring='neg_mean_absolute_error', cv=cv, n_jobs=-1)\n",
        "        model.fit (X_train, y_train)\n",
        "        y_pred = model.predict(X_test)\n",
        "        mse = mean_squared_error (y_test, y_pred)\n",
        "        rmse = np.sqrt(mse)\n",
        "        mae = mean_absolute_error(y_test, y_pred)\n",
        "        mape = mean_absolute_percentage_error(y_test, y_pred)\n",
        "        print (f'{name} : mse {mse} - rmse {rmse} - mae {mae} - mape {mape*100}')\n",
        "        names.append(name)\n",
        "        rmses.append(rmse)\n",
        "    return names, rmses"
      ],
      "metadata": {
        "id": "xlSoM58hLzMU"
      },
      "execution_count": 28,
      "outputs": []
    },
    {
      "cell_type": "code",
      "source": [
        "# run modeling function on scaled data\n",
        "print (\"Scaled Data Modeling After Hyperparameter Tuning:\")\n",
        "names, rmses = modeling_tuning(X_train, X_test, y_train, y_test)"
      ],
      "metadata": {
        "colab": {
          "base_uri": "https://localhost:8080/"
        },
        "id": "TBnqdWNWOi_6",
        "outputId": "96951394-22bf-48bd-d295-5fc0305563b6"
      },
      "execution_count": 29,
      "outputs": [
        {
          "output_type": "stream",
          "name": "stdout",
          "text": [
            "Scaled Data Modeling After Hyperparameter Tuning:\n",
            "LR : mse 5.9600623289055764e+19 - rmse 7720143994.062272 - mae 6244016206.410629 - mape 285679549907.4949\n",
            "KNN : mse 0.6238636363636364 - rmse 0.7898503885949771 - mae 0.6324675324675324 - mape 29.360344516594516\n",
            "DT : mse 0.5759961910259608 - rmse 0.7589441290542808 - mae 0.6032355810886368 - mape 29.065199418949756\n",
            "RF : mse 0.5766215038888447 - rmse 0.7593559796886074 - mae 0.6025438610762138 - mape 28.9670957344799\n",
            "GB : mse 0.5775353630237313 - rmse 0.7599574744837577 - mae 0.6014137900196774 - mape 28.90577107978945\n"
          ]
        }
      ]
    },
    {
      "cell_type": "code",
      "source": [
        "# run modeling function on pca data\n",
        "print (\"PCA Data Modeling :\")\n",
        "pca_names, pca_rmses = modeling_tuning(X_pca_train, X_pca_test, y_train, y_test)"
      ],
      "metadata": {
        "colab": {
          "base_uri": "https://localhost:8080/"
        },
        "id": "cJU5Dov1Om6N",
        "outputId": "c31e4474-e77b-440b-91f8-68c934630ca8"
      },
      "execution_count": 30,
      "outputs": [
        {
          "output_type": "stream",
          "name": "stdout",
          "text": [
            "PCA Data Modeling :\n",
            "LR : mse 0.5881865079419031 - rmse 0.7669331834924755 - mae 0.6097092474138125 - mape 29.3015986355609\n",
            "KNN : mse 0.6522881880024737 - rmse 0.8076436020934442 - mae 0.6505411255411255 - mape 30.65160533910534\n",
            "DT : mse 0.6161759808469176 - rmse 0.7849687769885613 - mae 0.6296988973260735 - mape 29.63344132489355\n",
            "RF : mse 0.6043376021126083 - rmse 0.7773915372015625 - mae 0.6226364114812218 - mape 29.566229784738045\n",
            "GB : mse 0.5934697416276902 - rmse 0.7703698732606891 - mae 0.6199216735342433 - mape 29.591492765357774\n"
          ]
        }
      ]
    }
  ],
  "metadata": {
    "colab": {
      "provenance": []
    },
    "kernelspec": {
      "display_name": "Python 3",
      "name": "python3"
    },
    "language_info": {
      "name": "python"
    }
  },
  "nbformat": 4,
  "nbformat_minor": 0
}